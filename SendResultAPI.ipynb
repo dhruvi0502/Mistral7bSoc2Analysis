{
 "cells": [
  {
   "cell_type": "markdown",
   "id": "8ebf5811",
   "metadata": {},
   "source": [
    "Import Required Library"
   ]
  },
  {
   "cell_type": "code",
   "execution_count": 3,
   "id": "d5885e18",
   "metadata": {},
   "outputs": [],
   "source": [
    "from flask import Flask , request , jsonify"
   ]
  },
  {
   "cell_type": "code",
   "execution_count": 8,
   "id": "620fedfe",
   "metadata": {},
   "outputs": [
    {
     "name": "stdout",
     "output_type": "stream",
     "text": [
      " * Serving Flask app '__main__'\n",
      " * Debug mode: off\n"
     ]
    },
    {
     "name": "stderr",
     "output_type": "stream",
     "text": [
      "WARNING: This is a development server. Do not use it in a production deployment. Use a production WSGI server instead.\n",
      " * Running on http://127.0.0.1:5000\n",
      "Press CTRL+C to quit\n",
      "127.0.0.1 - - [14/Apr/2025 17:38:57] \"GET /ModelResponse?SecutitySocre=90&AvailabilityScore=85&ProcessingIntegrityScore=80&ConfidentialityScore=75&PrivacyScore=88&TotalScore=83&Description=This+is+a+sample+SOC+2+analysis+result. HTTP/1.1\" 405 -\n",
      "127.0.0.1 - - [14/Apr/2025 17:47:56] \"POST /ModelResponse HTTP/1.1\" 200 -\n"
     ]
    }
   ],
   "source": [
    "app = Flask(__name__)\n",
    "\n",
    "@app.route('/ModelResponse', methods=['POST'])\n",
    "\n",
    "def SendModelResponse():\n",
    "    data = request.json\n",
    "\n",
    "    if not data or 'SecutitySocre' not in data or 'AvailabilityScore' not in data or 'ProcessingIntegrityScore' not in data or 'ConfidentialityScore' not in data or 'PrivacyScore' not in data or 'TotalScore' not in data or 'Description' not in data:\n",
    "        return jsonify({\"error\": \"Missing Soc2 Report Analysis in request body\"}), 400\n",
    "    \n",
    "    # Read Data from response\n",
    "\n",
    "    securityScore = data['SecutitySocre']\n",
    "    availabilityScore = data['AvailabilityScore']\n",
    "    processingIntegrityScore = data['ProcessingIntegrityScore']\n",
    "    confidentialityScore = data['ConfidentialityScore']\n",
    "    privacyScore = data['PrivacyScore']\n",
    "    totalScore = data['TotalScore']\n",
    "    description = data['Description']\n",
    "\n",
    "    return jsonify(\n",
    "                        {\n",
    "                            \"SecutitySocre\" : securityScore,\n",
    "                            \"AvailabilityScore\" : availabilityScore,\n",
    "                            \"ProcessingIntegrityScore\" : processingIntegrityScore, \n",
    "                            \"ConfidentialityScore\" : confidentialityScore,\n",
    "                            \"PrivacyScore\" : privacyScore,\n",
    "                            \"TotalScore\" : totalScore,\n",
    "                            \"Description\" : description\n",
    "                        }\n",
    "    )\n",
    "\n",
    "app.run()\n"
   ]
  }
 ],
 "metadata": {
  "kernelspec": {
   "display_name": "Python 3",
   "language": "python",
   "name": "python3"
  },
  "language_info": {
   "codemirror_mode": {
    "name": "ipython",
    "version": 3
   },
   "file_extension": ".py",
   "mimetype": "text/x-python",
   "name": "python",
   "nbconvert_exporter": "python",
   "pygments_lexer": "ipython3",
   "version": "3.12.10"
  }
 },
 "nbformat": 4,
 "nbformat_minor": 5
}
