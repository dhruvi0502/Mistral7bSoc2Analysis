{
 "cells": [
  {
   "cell_type": "code",
   "execution_count": 1,
   "id": "e841db62",
   "metadata": {},
   "outputs": [],
   "source": [
    "from flask import jsonify , Flask\n",
    "from flask import request, abort, send_file\n",
    "from tkinter import Tk, filedialog\n",
    "import os"
   ]
  },
  {
   "cell_type": "markdown",
   "id": "a7315908",
   "metadata": {},
   "source": [
    "create Route Hello word"
   ]
  },
  {
   "cell_type": "code",
   "execution_count": 2,
   "id": "6cc24f63",
   "metadata": {},
   "outputs": [
    {
     "name": "stdout",
     "output_type": "stream",
     "text": [
      " * Serving Flask app '__main__'\n",
      " * Debug mode: off\n"
     ]
    },
    {
     "name": "stderr",
     "output_type": "stream",
     "text": [
      "WARNING: This is a development server. Do not use it in a production deployment. Use a production WSGI server instead.\n",
      " * Running on http://127.0.0.1:5000\n",
      "Press CTRL+C to quit\n",
      "127.0.0.1 - - [14/Apr/2025 14:38:13] \"GET / HTTP/1.1\" 200 -\n"
     ]
    }
   ],
   "source": [
    "app = Flask(__name__)  # flak Application object\n",
    "\n",
    "@app.route('/') #  / means home page\n",
    "def hello_world(): # run this function when / route is called\n",
    "    return jsonify(message=\"Hello, World!\")\n",
    "\n",
    "app.run()"
   ]
  }
 ],
 "metadata": {
  "kernelspec": {
   "display_name": "Python 3",
   "language": "python",
   "name": "python3"
  },
  "language_info": {
   "codemirror_mode": {
    "name": "ipython",
    "version": 3
   },
   "file_extension": ".py",
   "mimetype": "text/x-python",
   "name": "python",
   "nbconvert_exporter": "python",
   "pygments_lexer": "ipython3",
   "version": "3.12.10"
  }
 },
 "nbformat": 4,
 "nbformat_minor": 5
}
